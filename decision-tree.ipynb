{
 "cells": [
  {
   "cell_type": "code",
   "execution_count": 1,
   "metadata": {},
   "outputs": [],
   "source": [
    "import pandas as pd\n",
    "import matplotlib.pyplot as plt\n",
    "from sklearn.metrics import accuracy_score,classification_report\n",
    "from sklearn.neighbors import KNeighborsClassifier\n",
    "from sklearn.svm import SVC\n",
    "from sklearn.tree import DecisionTreeClassifier\n",
    "from sklearn.model_selection import cross_val_score\n",
    "from sklearn.model_selection import train_test_split\n",
    "import seaborn as sns"
   ]
  },
  {
   "cell_type": "code",
   "execution_count": 2,
   "metadata": {},
   "outputs": [
    {
     "data": {
      "text/html": [
       "<div>\n",
       "<style scoped>\n",
       "    .dataframe tbody tr th:only-of-type {\n",
       "        vertical-align: middle;\n",
       "    }\n",
       "\n",
       "    .dataframe tbody tr th {\n",
       "        vertical-align: top;\n",
       "    }\n",
       "\n",
       "    .dataframe thead th {\n",
       "        text-align: right;\n",
       "    }\n",
       "</style>\n",
       "<table border=\"1\" class=\"dataframe\">\n",
       "  <thead>\n",
       "    <tr style=\"text-align: right;\">\n",
       "      <th></th>\n",
       "      <th>customerID</th>\n",
       "      <th>gender</th>\n",
       "      <th>SeniorCitizen</th>\n",
       "      <th>Partner</th>\n",
       "      <th>Dependents</th>\n",
       "      <th>tenure</th>\n",
       "      <th>PhoneService</th>\n",
       "      <th>MultipleLines</th>\n",
       "      <th>InternetService</th>\n",
       "      <th>OnlineSecurity</th>\n",
       "      <th>...</th>\n",
       "      <th>DeviceProtection</th>\n",
       "      <th>TechSupport</th>\n",
       "      <th>StreamingTV</th>\n",
       "      <th>StreamingMovies</th>\n",
       "      <th>Contract</th>\n",
       "      <th>PaperlessBilling</th>\n",
       "      <th>PaymentMethod</th>\n",
       "      <th>MonthlyCharges</th>\n",
       "      <th>TotalCharges</th>\n",
       "      <th>Churn</th>\n",
       "    </tr>\n",
       "  </thead>\n",
       "  <tbody>\n",
       "    <tr>\n",
       "      <th>0</th>\n",
       "      <td>7590-VHVEG</td>\n",
       "      <td>Female</td>\n",
       "      <td>0</td>\n",
       "      <td>Yes</td>\n",
       "      <td>No</td>\n",
       "      <td>1</td>\n",
       "      <td>No</td>\n",
       "      <td>No phone service</td>\n",
       "      <td>DSL</td>\n",
       "      <td>No</td>\n",
       "      <td>...</td>\n",
       "      <td>No</td>\n",
       "      <td>No</td>\n",
       "      <td>No</td>\n",
       "      <td>No</td>\n",
       "      <td>Month-to-month</td>\n",
       "      <td>Yes</td>\n",
       "      <td>Electronic check</td>\n",
       "      <td>29.85</td>\n",
       "      <td>29.85</td>\n",
       "      <td>No</td>\n",
       "    </tr>\n",
       "    <tr>\n",
       "      <th>1</th>\n",
       "      <td>5575-GNVDE</td>\n",
       "      <td>Male</td>\n",
       "      <td>0</td>\n",
       "      <td>No</td>\n",
       "      <td>No</td>\n",
       "      <td>34</td>\n",
       "      <td>Yes</td>\n",
       "      <td>No</td>\n",
       "      <td>DSL</td>\n",
       "      <td>Yes</td>\n",
       "      <td>...</td>\n",
       "      <td>Yes</td>\n",
       "      <td>No</td>\n",
       "      <td>No</td>\n",
       "      <td>No</td>\n",
       "      <td>One year</td>\n",
       "      <td>No</td>\n",
       "      <td>Mailed check</td>\n",
       "      <td>56.95</td>\n",
       "      <td>1889.5</td>\n",
       "      <td>No</td>\n",
       "    </tr>\n",
       "    <tr>\n",
       "      <th>2</th>\n",
       "      <td>3668-QPYBK</td>\n",
       "      <td>Male</td>\n",
       "      <td>0</td>\n",
       "      <td>No</td>\n",
       "      <td>No</td>\n",
       "      <td>2</td>\n",
       "      <td>Yes</td>\n",
       "      <td>No</td>\n",
       "      <td>DSL</td>\n",
       "      <td>Yes</td>\n",
       "      <td>...</td>\n",
       "      <td>No</td>\n",
       "      <td>No</td>\n",
       "      <td>No</td>\n",
       "      <td>No</td>\n",
       "      <td>Month-to-month</td>\n",
       "      <td>Yes</td>\n",
       "      <td>Mailed check</td>\n",
       "      <td>53.85</td>\n",
       "      <td>108.15</td>\n",
       "      <td>Yes</td>\n",
       "    </tr>\n",
       "    <tr>\n",
       "      <th>3</th>\n",
       "      <td>7795-CFOCW</td>\n",
       "      <td>Male</td>\n",
       "      <td>0</td>\n",
       "      <td>No</td>\n",
       "      <td>No</td>\n",
       "      <td>45</td>\n",
       "      <td>No</td>\n",
       "      <td>No phone service</td>\n",
       "      <td>DSL</td>\n",
       "      <td>Yes</td>\n",
       "      <td>...</td>\n",
       "      <td>Yes</td>\n",
       "      <td>Yes</td>\n",
       "      <td>No</td>\n",
       "      <td>No</td>\n",
       "      <td>One year</td>\n",
       "      <td>No</td>\n",
       "      <td>Bank transfer (automatic)</td>\n",
       "      <td>42.30</td>\n",
       "      <td>1840.75</td>\n",
       "      <td>No</td>\n",
       "    </tr>\n",
       "    <tr>\n",
       "      <th>4</th>\n",
       "      <td>9237-HQITU</td>\n",
       "      <td>Female</td>\n",
       "      <td>0</td>\n",
       "      <td>No</td>\n",
       "      <td>No</td>\n",
       "      <td>2</td>\n",
       "      <td>Yes</td>\n",
       "      <td>No</td>\n",
       "      <td>Fiber optic</td>\n",
       "      <td>No</td>\n",
       "      <td>...</td>\n",
       "      <td>No</td>\n",
       "      <td>No</td>\n",
       "      <td>No</td>\n",
       "      <td>No</td>\n",
       "      <td>Month-to-month</td>\n",
       "      <td>Yes</td>\n",
       "      <td>Electronic check</td>\n",
       "      <td>70.70</td>\n",
       "      <td>151.65</td>\n",
       "      <td>Yes</td>\n",
       "    </tr>\n",
       "  </tbody>\n",
       "</table>\n",
       "<p>5 rows × 21 columns</p>\n",
       "</div>"
      ],
      "text/plain": [
       "   customerID  gender  SeniorCitizen Partner Dependents  tenure PhoneService  \\\n",
       "0  7590-VHVEG  Female              0     Yes         No       1           No   \n",
       "1  5575-GNVDE    Male              0      No         No      34          Yes   \n",
       "2  3668-QPYBK    Male              0      No         No       2          Yes   \n",
       "3  7795-CFOCW    Male              0      No         No      45           No   \n",
       "4  9237-HQITU  Female              0      No         No       2          Yes   \n",
       "\n",
       "      MultipleLines InternetService OnlineSecurity  ... DeviceProtection  \\\n",
       "0  No phone service             DSL             No  ...               No   \n",
       "1                No             DSL            Yes  ...              Yes   \n",
       "2                No             DSL            Yes  ...               No   \n",
       "3  No phone service             DSL            Yes  ...              Yes   \n",
       "4                No     Fiber optic             No  ...               No   \n",
       "\n",
       "  TechSupport StreamingTV StreamingMovies        Contract PaperlessBilling  \\\n",
       "0          No          No              No  Month-to-month              Yes   \n",
       "1          No          No              No        One year               No   \n",
       "2          No          No              No  Month-to-month              Yes   \n",
       "3         Yes          No              No        One year               No   \n",
       "4          No          No              No  Month-to-month              Yes   \n",
       "\n",
       "               PaymentMethod MonthlyCharges  TotalCharges Churn  \n",
       "0           Electronic check          29.85         29.85    No  \n",
       "1               Mailed check          56.95        1889.5    No  \n",
       "2               Mailed check          53.85        108.15   Yes  \n",
       "3  Bank transfer (automatic)          42.30       1840.75    No  \n",
       "4           Electronic check          70.70        151.65   Yes  \n",
       "\n",
       "[5 rows x 21 columns]"
      ]
     },
     "execution_count": 2,
     "metadata": {},
     "output_type": "execute_result"
    }
   ],
   "source": [
    "df = pd.read_csv('telco-customer-churn/WA_Fn-UseC_-Telco-Customer-Churn.csv')\n",
    "df.head()"
   ]
  },
  {
   "cell_type": "code",
   "execution_count": 3,
   "metadata": {},
   "outputs": [
    {
     "name": "stdout",
     "output_type": "stream",
     "text": [
      "No     5174\n",
      "Yes    1869\n",
      "Name: Churn, dtype: int64\n"
     ]
    },
    {
     "data": {
      "image/png": "[encoded data removed]",
      "text/plain": [
       "<Figure size 432x288 with 1 Axes>"
      ]
     },
     "metadata": {},
     "output_type": "display_data"
    }
   ],
   "source": [
    "#target variable visualizing\n",
    "df[\"Churn\"].value_counts().plot(kind = \"pie\")\n",
    "print(df[\"Churn\"].value_counts())"
   ]
  },
  {
   "cell_type": "code",
   "execution_count": 4,
   "metadata": {},
   "outputs": [
    {
     "data": {
      "text/plain": [
       "<matplotlib.axes._subplots.AxesSubplot at 0x7fee0cec12b0>"
      ]
     },
     "execution_count": 4,
     "metadata": {},
     "output_type": "execute_result"
    },
    {
     "data": {
      "image/png": "[encoded data removed]",
      "text/plain": [
       "<Figure size 1008x864 with 4 Axes>"
      ]
     },
     "metadata": {
      "needs_background": "light"
     },
     "output_type": "display_data"
    }
   ],
   "source": [
    "plt.figure(figsize=(14,12))\n",
    "\n",
    "#gender influence\n",
    "plt.subplot(2,2,1)\n",
    "sns.countplot(df[\"Churn\"],hue = df[\"gender\"])\n",
    "\n",
    "\n",
    "#Senior citizen influence on target variable\n",
    "plt.subplot(2,2,2)\n",
    "sns.countplot(df[\"Churn\"],hue = df[\"SeniorCitizen\"])\n",
    "\n",
    "\n",
    "\n",
    "#Partner influence on target variable\n",
    "plt.subplot(2,2,3)\n",
    "sns.countplot(df[\"Churn\"],hue = df[\"Partner\"])\n",
    "\n",
    "\n",
    "#dependents influence on target value\n",
    "plt.subplot(2,2,4)\n",
    "sns.countplot(df[\"Churn\"],hue = df[\"Dependents\"])"
   ]
  },
  {
   "cell_type": "code",
   "execution_count": 10,
   "metadata": {},
   "outputs": [],
   "source": [
    "# GENDER\n",
    "# 1 - male\n",
    "# 0 - female\n",
    "\n",
    "\n",
    "data[\"gender\"].replace([\"Male\",\"Female\"],[1,0],inplace =True)\n",
    "\n",
    "\n",
    "#PARTNER\n",
    "data[\"Partner\"].replace([\"Yes\",\"No\"],[1,0],inplace =True)\n",
    "\n",
    "\n",
    "#DEPENDENTS\n",
    "data[\"Dependents\"].replace([\"Yes\",\"No\"],[1,0],inplace =True)\n",
    "\n",
    "\n",
    "#MULTIPLELINES\n",
    "data[\"MultipleLines\"].replace([\"Yes\",\"No\",\"No phone service\"],[1,0,2],inplace = True)\n",
    "\n",
    "\n",
    "#PHONESERVICE\n",
    "data[\"PhoneService\"].replace([\"Yes\",\"No\"],[1,0],inplace =True)\n",
    "\n",
    "\n",
    "#INTERNET SERVICES\n",
    "data[\"InternetService\"].replace([\"Fiber optic\",\"DSL\",\"No\"],[0,1,2],inplace= True)\n",
    "\n",
    "\n",
    "#CONTARCT\n",
    "data[\"Contract\"].replace([\"Month-to-month\",\"Two year\",\"One year\"],[0,1,2],inplace = True)\n",
    "\n",
    "\n",
    "#TECH SUPPORT\n",
    "data[\"TechSupport\"].replace([\"No\",\"Yes\",\"No internet service\"],[0,1,2],inplace = True)\n",
    "\n",
    "\n",
    "#ONLINE SECURITY\n",
    "data[\"OnlineSecurity\"].replace([\"No\",\"Yes\",\"No internet service\"],[0,1,2],inplace = True)\n",
    "\n",
    "\n",
    "#DEVICE PROTECTION\n",
    "data[\"DeviceProtection\"].replace([\"No\",\"Yes\",\"No internet service\"],[0,1,2],inplace =True)\n",
    "\n",
    "\n",
    "#STREAMING MOVIES\n",
    "data[\"StreamingMovies\"].replace([\"No\",\"Yes\",\"No internet service\"],[0,1,2],inplace =True)\n",
    "\n",
    "\n",
    "#STREAMING TV\n",
    "data[\"StreamingTV\"].replace([\"No\",\"Yes\",\"No internet service\"],[0,1,2],inplace =True)\n",
    "\n",
    "\n",
    "#ONLINEBACKUP\n",
    "data[\"OnlineBackup\"].replace([\"No\",\"Yes\",\"No internet service\"],[0,1,2],inplace =True)\n",
    "\n",
    "\n",
    "#PAPERLESS BILLING\n",
    "data[\"PaperlessBilling\"].replace([\"No\",\"Yes\"],[0,1],inplace =True)\n",
    "\n",
    "\n",
    "#PAYMENT METHOD\n",
    "data[\"PaymentMethod\"].replace([\"Electronic check\",\"Mailed check\",\"Bank transfer (automatic)\",\"Credit card (automatic)\"],[0,1,2,3],inplace =True)\n",
    "\n",
    "\n",
    "#total Payment\n",
    "data[\"TotalCharges\"].replace([\" \"],[0],inplace = True)\n",
    "data[\"TotalCharges\"] = data[\"TotalCharges\"].astype('float')\n",
    "\n",
    "\n",
    "\n",
    "#churn\n",
    "data[\"Churn\"].replace([\"No\",\"Yes\"],[0,1],inplace =True)"
   ]
  },
  {
   "cell_type": "code",
   "execution_count": 11,
   "metadata": {},
   "outputs": [
    {
     "data": {
      "text/plain": [
       "<matplotlib.axes._subplots.AxesSubplot at 0x7f04139e0b70>"
      ]
     },
     "execution_count": 11,
     "metadata": {},
     "output_type": "execute_result"
    },
    {
     "data": {
      "image/png": "[encoded data removed]",
      "text/plain": [
       "<Figure size 1152x720 with 2 Axes>"
      ]
     },
     "metadata": {
      "needs_background": "light"
     },
     "output_type": "display_data"
    }
   ],
   "source": [
    "plt.figure(figsize = (16,10))\n",
    "sns.heatmap(data.corr())"
   ]
  },
  {
   "cell_type": "code",
   "execution_count": 12,
   "metadata": {},
   "outputs": [],
   "source": [
    "#dropping customer id columns Since that don't have any influence on target variable\n",
    "data.drop(\"customerID\",axis = 1,inplace = True)"
   ]
  },
  {
   "cell_type": "code",
   "execution_count": 13,
   "metadata": {},
   "outputs": [],
   "source": [
    "#splitting of dataset\n",
    "x = data.iloc[:,:-1]\n",
    "y = data.iloc[:,-1]\n",
    "x_train,x_test,y_train,y_test = train_test_split(x,y,test_size = 0.2 ,random_state = 2)"
   ]
  },
  {
   "cell_type": "code",
   "execution_count": 14,
   "metadata": {},
   "outputs": [],
   "source": [
    "#cross validation\n",
    "def val(a,b,classifier):\n",
    "    val = cross_val_score(classifier,a,b,scoring = \"accuracy\",cv = 10)\n",
    "    return val"
   ]
  },
  {
   "cell_type": "code",
   "execution_count": 15,
   "metadata": {},
   "outputs": [],
   "source": [
    "#accuarcy\n",
    "def accuracy(a,b):\n",
    "    ac = accuracy_score(a,b)\n",
    "    cr = classification_report(a,b)\n",
    "    print(\"accuracy score : \",ac)\n",
    "    print(\"--\"*15)\n",
    "    print(\"Classification report :\",cr)\n",
    "    return ac\n"
   ]
  },
  {
   "cell_type": "code",
   "execution_count": 16,
   "metadata": {},
   "outputs": [],
   "source": [
    "#KNN algorithm\n",
    "knc = KNeighborsClassifier(n_neighbors=23)\n",
    "knc.fit(x_train,y_train)\n",
    "knc_pred = knc.predict(x_test)"
   ]
  },
  {
   "cell_type": "code",
   "execution_count": 17,
   "metadata": {},
   "outputs": [
    {
     "name": "stdout",
     "output_type": "stream",
     "text": [
      "accuracy score :  0.8019872249822569\n",
      "------------------------------\n",
      "Classification report :               precision    recall  f1-score   support\n",
      "\n",
      "           0       0.83      0.93      0.88      1061\n",
      "           1       0.66      0.41      0.51       348\n",
      "\n",
      "    accuracy                           0.80      1409\n",
      "   macro avg       0.74      0.67      0.69      1409\n",
      "weighted avg       0.79      0.80      0.78      1409\n",
      "\n"
     ]
    }
   ],
   "source": [
    "acc_knn = accuracy(y_test,knc_pred)"
   ]
  },
  {
   "cell_type": "code",
   "execution_count": 18,
   "metadata": {},
   "outputs": [],
   "source": [
    "#Decision Tree\n",
    "dtc = DecisionTreeClassifier(random_state=2)\n",
    "dtc.fit(x_train,y_train)\n",
    "dtc_pred = dtc.predict(x_test)"
   ]
  },
  {
   "cell_type": "code",
   "execution_count": 19,
   "metadata": {},
   "outputs": [
    {
     "name": "stdout",
     "output_type": "stream",
     "text": [
      "accuracy score :  0.730305180979418\n",
      "------------------------------\n",
      "Classification report :               precision    recall  f1-score   support\n",
      "\n",
      "           0       0.83      0.81      0.82      1061\n",
      "           1       0.46      0.48      0.47       348\n",
      "\n",
      "    accuracy                           0.73      1409\n",
      "   macro avg       0.64      0.65      0.64      1409\n",
      "weighted avg       0.73      0.73      0.73      1409\n",
      "\n"
     ]
    }
   ],
   "source": [
    "acc_dtc = accuracy(y_test,dtc_pred)"
   ]
  },
  {
   "cell_type": "code",
   "execution_count": 20,
   "metadata": {},
   "outputs": [
    {
     "name": "stderr",
     "output_type": "stream",
     "text": [
      "/home/mk/.local/lib/python3.6/site-packages/sklearn/svm/base.py:193: FutureWarning: The default value of gamma will change from 'auto' to 'scale' in version 0.22 to account better for unscaled features. Set gamma explicitly to 'auto' or 'scale' to avoid this warning.\n",
      "  \"avoid this warning.\", FutureWarning)\n"
     ]
    }
   ],
   "source": [
    "#svc\n",
    "svc = SVC(random_state = 2) \n",
    "svc.fit(x_train,y_train)\n",
    "svc_pred = svc.predict(x_test)"
   ]
  },
  {
   "cell_type": "code",
   "execution_count": 21,
   "metadata": {},
   "outputs": [
    {
     "name": "stdout",
     "output_type": "stream",
     "text": [
      "accuracy score :  0.78708303761533\n",
      "------------------------------\n",
      "Classification report :               precision    recall  f1-score   support\n",
      "\n",
      "           0       0.79      0.97      0.87      1061\n",
      "           1       0.72      0.22      0.34       348\n",
      "\n",
      "    accuracy                           0.79      1409\n",
      "   macro avg       0.76      0.60      0.61      1409\n",
      "weighted avg       0.78      0.79      0.74      1409\n",
      "\n"
     ]
    }
   ],
   "source": [
    "acc_svc = accuracy(y_test,svc_pred)"
   ]
  },
  {
   "cell_type": "code",
   "execution_count": 22,
   "metadata": {},
   "outputs": [
    {
     "data": {
      "text/html": [
       "<div>\n",
       "<style scoped>\n",
       "    .dataframe tbody tr th:only-of-type {\n",
       "        vertical-align: middle;\n",
       "    }\n",
       "\n",
       "    .dataframe tbody tr th {\n",
       "        vertical-align: top;\n",
       "    }\n",
       "\n",
       "    .dataframe thead th {\n",
       "        text-align: right;\n",
       "    }\n",
       "</style>\n",
       "<table border=\"1\" class=\"dataframe\">\n",
       "  <thead>\n",
       "    <tr style=\"text-align: right;\">\n",
       "      <th></th>\n",
       "      <th>accuracy</th>\n",
       "    </tr>\n",
       "  </thead>\n",
       "  <tbody>\n",
       "    <tr>\n",
       "      <th>Decision Tree</th>\n",
       "      <td>0.730305</td>\n",
       "    </tr>\n",
       "    <tr>\n",
       "      <th>KNN</th>\n",
       "      <td>0.801987</td>\n",
       "    </tr>\n",
       "    <tr>\n",
       "      <th>SVC</th>\n",
       "      <td>0.787083</td>\n",
       "    </tr>\n",
       "  </tbody>\n",
       "</table>\n",
       "</div>"
      ],
      "text/plain": [
       "               accuracy\n",
       "Decision Tree  0.730305\n",
       "KNN            0.801987\n",
       "SVC            0.787083"
      ]
     },
     "execution_count": 22,
     "metadata": {},
     "output_type": "execute_result"
    },
    {
     "data": {
      "image/png": "[encoded data removed]",
      "text/plain": [
       "<Figure size 432x288 with 1 Axes>"
      ]
     },
     "metadata": {
      "needs_background": "light"
     },
     "output_type": "display_data"
    }
   ],
   "source": [
    "z = pd.DataFrame(data = [acc_dtc,acc_knn,acc_svc],index = ['Decision Tree','KNN','SVC'],columns=[ \"accuracy\"])\n",
    "#comparing results\n",
    "z.plot(kind = 'bar',title=\"accuracy vs algorithm\")\n",
    "z"
   ]
  },
  {
   "cell_type": "code",
   "execution_count": null,
   "metadata": {},
   "outputs": [],
   "source": []
  }
 ],
 "metadata": {
  "kernelspec": {
   "display_name": "Python 3",
   "language": "python",
   "name": "python3"
  },
  "language_info": {
   "codemirror_mode": {
    "name": "ipython",
    "version": 3
   },
   "file_extension": ".py",
   "mimetype": "text/x-python",
   "name": "python",
   "nbconvert_exporter": "python",
   "pygments_lexer": "ipython3",
   "version": "3.6.7"
  }
 },
 "nbformat": 4,
 "nbformat_minor": 2
}
